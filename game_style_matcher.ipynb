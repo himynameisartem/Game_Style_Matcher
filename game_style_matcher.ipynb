{
 "cells": [
  {
   "cell_type": "code",
   "execution_count": 1,
   "id": "5934f617-1a4c-4be1-adb3-b53c75cc7ace",
   "metadata": {},
   "outputs": [],
   "source": [
    "import numpy as np\n",
    "import pandas as pd"
   ]
  },
  {
   "cell_type": "markdown",
   "id": "a0f1943f-168b-4bab-a1e8-411ad376d5ae",
   "metadata": {},
   "source": [
    "### Loading Data"
   ]
  },
  {
   "cell_type": "code",
   "execution_count": 14,
   "id": "b2c71535-2d29-48be-afa8-74cb9c802ccf",
   "metadata": {},
   "outputs": [],
   "source": [
    "df = pd.read_csv('data/raw/games.csv')"
   ]
  },
  {
   "cell_type": "code",
   "execution_count": 15,
   "id": "994aa133-ea38-4ecf-bb0e-52810dbaf4d9",
   "metadata": {},
   "outputs": [
    {
     "name": "stdout",
     "output_type": "stream",
     "text": [
      "<class 'pandas.core.frame.DataFrame'>\n",
      "RangeIndex: 71716 entries, 0 to 71715\n",
      "Data columns (total 39 columns):\n",
      " #   Column                      Non-Null Count  Dtype  \n",
      "---  ------                      --------------  -----  \n",
      " 0   AppID                       71716 non-null  int64  \n",
      " 1   Name                        71715 non-null  object \n",
      " 2   Release date                71716 non-null  object \n",
      " 3   Estimated owners            71716 non-null  object \n",
      " 4   Peak CCU                    71716 non-null  int64  \n",
      " 5   Required age                71716 non-null  int64  \n",
      " 6   Price                       71716 non-null  float64\n",
      " 7   DLC count                   71716 non-null  int64  \n",
      " 8   About the game              69280 non-null  object \n",
      " 9   Supported languages         71716 non-null  object \n",
      " 10  Full audio languages        71716 non-null  object \n",
      " 11  Reviews                     9167 non-null   object \n",
      " 12  Header image                71716 non-null  object \n",
      " 13  Website                     35073 non-null  object \n",
      " 14  Support url                 36250 non-null  object \n",
      " 15  Support email               60596 non-null  object \n",
      " 16  Windows                     71716 non-null  bool   \n",
      " 17  Mac                         71716 non-null  bool   \n",
      " 18  Linux                       71716 non-null  bool   \n",
      " 19  Metacritic score            71716 non-null  int64  \n",
      " 20  Metacritic url              3778 non-null   object \n",
      " 21  User score                  71716 non-null  int64  \n",
      " 22  Positive                    71716 non-null  int64  \n",
      " 23  Negative                    71716 non-null  int64  \n",
      " 24  Score rank                  42 non-null     float64\n",
      " 25  Achievements                71716 non-null  int64  \n",
      " 26  Recommendations             71716 non-null  int64  \n",
      " 27  Notes                       10442 non-null  object \n",
      " 28  Average playtime forever    71716 non-null  int64  \n",
      " 29  Average playtime two weeks  71716 non-null  int64  \n",
      " 30  Median playtime forever     71716 non-null  int64  \n",
      " 31  Median playtime two weeks   71716 non-null  int64  \n",
      " 32  Developers                  69255 non-null  object \n",
      " 33  Publishers                  68996 non-null  object \n",
      " 34  Categories                  68309 non-null  object \n",
      " 35  Genres                      69277 non-null  object \n",
      " 36  Tags                        57702 non-null  object \n",
      " 37  Screenshots                 70387 non-null  object \n",
      " 38  Movies                      66668 non-null  object \n",
      "dtypes: bool(3), float64(2), int64(14), object(20)\n",
      "memory usage: 19.9+ MB\n"
     ]
    }
   ],
   "source": [
    "df.info()"
   ]
  },
  {
   "cell_type": "markdown",
   "id": "00853ad6-4903-4425-ae89-4d28d7b03707",
   "metadata": {},
   "source": [
    "# Data Cleaning"
   ]
  },
  {
   "cell_type": "code",
   "execution_count": 18,
   "id": "503478b8-bba0-47bf-b591-af6cca4a80fa",
   "metadata": {},
   "outputs": [],
   "source": [
    "drop_columns = [\n",
    "    'Header image', 'Website', 'Support url', 'Support email',\n",
    "    'Metacritic url', 'Screenshots', 'Movies', 'Score rank',\n",
    "    'Notes', 'Estimated owners', 'Peak CCU', 'DLC count',\n",
    "    'Full audio languages', 'Reviews',\n",
    "    'Average playtime two weeks', 'Median playtime two weeks',\n",
    "    'Support email', 'Support url'\n",
    "]\n",
    "df_clean = df.drop(columns=drop_columns)"
   ]
  },
  {
   "cell_type": "code",
   "execution_count": 20,
   "id": "3adde3ad-7b63-4361-8a2c-0d5822562f76",
   "metadata": {},
   "outputs": [
    {
     "data": {
      "text/plain": [
       "['AppID',\n",
       " 'Name',\n",
       " 'Release date',\n",
       " 'Required age',\n",
       " 'Price',\n",
       " 'About the game',\n",
       " 'Supported languages',\n",
       " 'Windows',\n",
       " 'Mac',\n",
       " 'Linux',\n",
       " 'Metacritic score',\n",
       " 'User score',\n",
       " 'Positive',\n",
       " 'Negative',\n",
       " 'Achievements',\n",
       " 'Recommendations',\n",
       " 'Average playtime forever',\n",
       " 'Median playtime forever',\n",
       " 'Developers',\n",
       " 'Publishers',\n",
       " 'Categories',\n",
       " 'Genres',\n",
       " 'Tags']"
      ]
     },
     "execution_count": 20,
     "metadata": {},
     "output_type": "execute_result"
    }
   ],
   "source": [
    "df_clean.columns.tolist()"
   ]
  },
  {
   "cell_type": "code",
   "execution_count": null,
   "id": "013d9321-3af9-40cb-834a-0ed1a9e2fd73",
   "metadata": {},
   "outputs": [],
   "source": []
  }
 ],
 "metadata": {
  "kernelspec": {
   "display_name": "Python 3 (ipykernel)",
   "language": "python",
   "name": "python3"
  },
  "language_info": {
   "codemirror_mode": {
    "name": "ipython",
    "version": 3
   },
   "file_extension": ".py",
   "mimetype": "text/x-python",
   "name": "python",
   "nbconvert_exporter": "python",
   "pygments_lexer": "ipython3",
   "version": "3.13.7"
  }
 },
 "nbformat": 4,
 "nbformat_minor": 5
}
